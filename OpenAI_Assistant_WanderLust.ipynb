{
  "cells": [
    {
      "cell_type": "markdown",
      "metadata": {
        "id": "S1z_wn6YPtHZ"
      },
      "source": [
        "# OpenAI assistant Wanderlust\n",
        "\n",
        "Basic recreation of OpenAI's DevDay Wanderlust demo app. It relies on Gradio and the new Assistants API.\n",
        "\n",
        "This space is inspired by the implementation of Fanilo Andrianasolo using Streamlit - https://www.youtube.com/watch?v=tLeqCDKgEDU\n",
        "\n"
      ]
    },
    {
      "cell_type": "code",
      "execution_count": 1,
      "metadata": {
        "colab": {
          "base_uri": "https://localhost:8080/"
        },
        "id": "H48GYPIBU5MK",
        "outputId": "68d8942a-120e-46a7-8562-40249f3b0b36"
      },
      "outputs": [
        {
          "output_type": "stream",
          "name": "stdout",
          "text": [
            "\u001b[2K     \u001b[90m━━━━━━━━━━━━━━━━━━━━━━━━━━━━━━━━━━━━━━━━\u001b[0m \u001b[32m15.4/15.4 MB\u001b[0m \u001b[31m30.7 MB/s\u001b[0m eta \u001b[36m0:00:00\u001b[0m\n",
            "\u001b[2K     \u001b[90m━━━━━━━━━━━━━━━━━━━━━━━━━━━━━━━━━━━━━━━━\u001b[0m \u001b[32m220.3/220.3 kB\u001b[0m \u001b[31m22.3 MB/s\u001b[0m eta \u001b[36m0:00:00\u001b[0m\n",
            "\u001b[2K     \u001b[90m━━━━━━━━━━━━━━━━━━━━━━━━━━━━━━━━━━━━━━━━\u001b[0m \u001b[32m521.2/521.2 kB\u001b[0m \u001b[31m39.6 MB/s\u001b[0m eta \u001b[36m0:00:00\u001b[0m\n",
            "\u001b[2K     \u001b[90m━━━━━━━━━━━━━━━━━━━━━━━━━━━━━━━━━━━━━━━━\u001b[0m \u001b[32m92.9/92.9 kB\u001b[0m \u001b[31m10.6 MB/s\u001b[0m eta \u001b[36m0:00:00\u001b[0m\n",
            "\u001b[?25h  Preparing metadata (setup.py) ... \u001b[?25l\u001b[?25hdone\n",
            "\u001b[2K     \u001b[90m━━━━━━━━━━━━━━━━━━━━━━━━━━━━━━━━━━━━━━━━\u001b[0m \u001b[32m302.7/302.7 kB\u001b[0m \u001b[31m31.3 MB/s\u001b[0m eta \u001b[36m0:00:00\u001b[0m\n",
            "\u001b[2K     \u001b[90m━━━━━━━━━━━━━━━━━━━━━━━━━━━━━━━━━━━━━━━━\u001b[0m \u001b[32m75.0/75.0 kB\u001b[0m \u001b[31m8.7 MB/s\u001b[0m eta \u001b[36m0:00:00\u001b[0m\n",
            "\u001b[2K     \u001b[90m━━━━━━━━━━━━━━━━━━━━━━━━━━━━━━━━━━━━━━━━\u001b[0m \u001b[32m138.7/138.7 kB\u001b[0m \u001b[31m12.6 MB/s\u001b[0m eta \u001b[36m0:00:00\u001b[0m\n",
            "\u001b[2K     \u001b[90m━━━━━━━━━━━━━━━━━━━━━━━━━━━━━━━━━━━━━━━━\u001b[0m \u001b[32m381.6/381.6 kB\u001b[0m \u001b[31m30.1 MB/s\u001b[0m eta \u001b[36m0:00:00\u001b[0m\n",
            "\u001b[2K     \u001b[90m━━━━━━━━━━━━━━━━━━━━━━━━━━━━━━━━━━━━━━━━\u001b[0m \u001b[32m45.7/45.7 kB\u001b[0m \u001b[31m4.9 MB/s\u001b[0m eta \u001b[36m0:00:00\u001b[0m\n",
            "\u001b[2K     \u001b[90m━━━━━━━━━━━━━━━━━━━━━━━━━━━━━━━━━━━━━━━━\u001b[0m \u001b[32m59.7/59.7 kB\u001b[0m \u001b[31m5.4 MB/s\u001b[0m eta \u001b[36m0:00:00\u001b[0m\n",
            "\u001b[2K     \u001b[90m━━━━━━━━━━━━━━━━━━━━━━━━━━━━━━━━━━━━━━━━\u001b[0m \u001b[32m129.9/129.9 kB\u001b[0m \u001b[31m11.0 MB/s\u001b[0m eta \u001b[36m0:00:00\u001b[0m\n",
            "\u001b[2K     \u001b[90m━━━━━━━━━━━━━━━━━━━━━━━━━━━━━━━━━━━━━━━━\u001b[0m \u001b[32m115.3/115.3 kB\u001b[0m \u001b[31m8.1 MB/s\u001b[0m eta \u001b[36m0:00:00\u001b[0m\n",
            "\u001b[2K     \u001b[90m━━━━━━━━━━━━━━━━━━━━━━━━━━━━━━━━━━━━━━━━\u001b[0m \u001b[32m134.8/134.8 kB\u001b[0m \u001b[31m12.2 MB/s\u001b[0m eta \u001b[36m0:00:00\u001b[0m\n",
            "\u001b[2K     \u001b[90m━━━━━━━━━━━━━━━━━━━━━━━━━━━━━━━━━━━━━━━━\u001b[0m \u001b[32m76.9/76.9 kB\u001b[0m \u001b[31m7.9 MB/s\u001b[0m eta \u001b[36m0:00:00\u001b[0m\n",
            "\u001b[2K     \u001b[90m━━━━━━━━━━━━━━━━━━━━━━━━━━━━━━━━━━━━━━━━\u001b[0m \u001b[32m2.1/2.1 MB\u001b[0m \u001b[31m50.8 MB/s\u001b[0m eta \u001b[36m0:00:00\u001b[0m\n",
            "\u001b[2K     \u001b[90m━━━━━━━━━━━━━━━━━━━━━━━━━━━━━━━━━━━━━━━━\u001b[0m \u001b[32m58.3/58.3 kB\u001b[0m \u001b[31m5.7 MB/s\u001b[0m eta \u001b[36m0:00:00\u001b[0m\n",
            "\u001b[2K     \u001b[90m━━━━━━━━━━━━━━━━━━━━━━━━━━━━━━━━━━━━━━━━\u001b[0m \u001b[32m67.0/67.0 kB\u001b[0m \u001b[31m8.0 MB/s\u001b[0m eta \u001b[36m0:00:00\u001b[0m\n",
            "\u001b[?25h  Building wheel for ffmpy (setup.py) ... \u001b[?25l\u001b[?25hdone\n",
            "\u001b[31mERROR: pip's dependency resolver does not currently take into account all the packages that are installed. This behaviour is the source of the following dependency conflicts.\n",
            "lida 0.0.10 requires kaleido, which is not installed.\n",
            "llmx 0.0.15a0 requires cohere, which is not installed.\n",
            "llmx 0.0.15a0 requires tiktoken, which is not installed.\n",
            "tensorflow-probability 0.22.0 requires typing-extensions<4.6.0, but you have typing-extensions 4.8.0 which is incompatible.\u001b[0m\u001b[31m\n",
            "\u001b[0m"
          ]
        }
      ],
      "source": [
        "!pip install -q -U gradio openai datasets"
      ]
    },
    {
      "cell_type": "code",
      "execution_count": 1,
      "metadata": {
        "id": "IwZTOByFgyaD"
      },
      "outputs": [],
      "source": [
        "import gradio as gr\n",
        "import random\n",
        "import openai\n",
        "import os\n",
        "import json\n",
        "import plotly.graph_objects as go\n",
        "import time\n",
        "\n",
        "os.environ[\"OPENAI_API_KEY\"] = \"\"  # Replace with your key"
      ]
    },
    {
      "cell_type": "code",
      "execution_count": 2,
      "metadata": {
        "id": "be0nwmREgDwa"
      },
      "outputs": [],
      "source": [
        "#######################################\n",
        "# TOOLS SETUP\n",
        "#######################################\n",
        "\n",
        "def update_map_state(latitude, longitude, zoom):\n",
        "    \"\"\"OpenAI tool to update map in-app\n",
        "    \"\"\"\n",
        "    session_state[map_state] = {\n",
        "        \"latitude\": latitude,\n",
        "        \"longitude\": longitude,\n",
        "        \"zoom\": zoom,\n",
        "    }\n",
        "    print(session_state[map_state])\n",
        "    return \"Map updated\"\n",
        "\n",
        "def add_markers_state(latitudes, longitudes, labels):\n",
        "    \"\"\"OpenAI tool to update markers in-app\n",
        "    \"\"\"\n",
        "    session_state[markers_state] = {\n",
        "        \"lat\": latitudes,\n",
        "        \"lon\": longitudes,\n",
        "        \"text\": labels,\n",
        "    }\n",
        "    return \"Markers added\"\n",
        "\n",
        "tool_to_function = {\n",
        "    \"update_map\": update_map_state,\n",
        "    \"add_markers\": add_markers_state,\n",
        "}\n"
      ]
    },
    {
      "cell_type": "code",
      "execution_count": 3,
      "metadata": {
        "id": "wXvMswcgf7c4"
      },
      "outputs": [],
      "source": [
        "## Helpers\n",
        "\n",
        "def get_assistant_id():\n",
        "    return session_state[assistant_state].id\n",
        "\n",
        "def get_thread_id():\n",
        "    return session_state[thread_state].id\n",
        "\n",
        "\n",
        "def get_run_id():\n",
        "    return session_state[last_openai_run_state].id\n",
        "\n",
        "def submit_message(assistant_id, thread_id, user_message):\n",
        "    client.beta.threads.messages.create(\n",
        "        thread_id=thread_id, role=\"user\", content=user_message\n",
        "    )\n",
        "    run = client.beta.threads.runs.create(\n",
        "        thread_id=thread_id,\n",
        "        assistant_id=assistant_id,\n",
        "    )\n",
        "    return run\n",
        "\n",
        "def get_run_info(run_id, thread_id):\n",
        "    run = client.beta.threads.runs.retrieve(\n",
        "        thread_id=thread_id,\n",
        "        run_id=run_id,\n",
        "    )\n",
        "    return run\n"
      ]
    },
    {
      "cell_type": "code",
      "execution_count": 4,
      "metadata": {
        "id": "kxpr31n58BCV"
      },
      "outputs": [],
      "source": [
        "#######################################\n",
        "# SESSION SETUP\n",
        "#######################################\n",
        "\n",
        "client = openai.OpenAI()\n",
        "assistant_id = \"asst_7OC3NTeyCjEZrApdLRklplE7\"\n",
        "\n",
        "session_state = {}\n",
        "\n",
        "assistant_state = \"assistant\"\n",
        "thread_state = \"thread\"\n",
        "conversation_state = \"conversation\"\n",
        "last_openai_run_state = \"last_openai_run\"\n",
        "map_state = \"map\"\n",
        "markers_state = \"markers\"\n",
        "\n",
        "if (assistant_state not in session_state) or (thread_state not in session_state):\n",
        "    session_state[assistant_state] = client.beta.assistants.retrieve(assistant_id)\n",
        "    session_state[thread_state] = client.beta.threads.create()\n",
        "\n",
        "if conversation_state not in session_state:\n",
        "    session_state[conversation_state] = []\n",
        "\n",
        "if last_openai_run_state not in session_state:\n",
        "    session_state[last_openai_run_state] = None\n",
        "\n",
        "if map_state not in session_state:\n",
        "    session_state[map_state] = {\n",
        "        \"latitude\": 48.85,\n",
        "        \"longitude\": 2.35,\n",
        "        \"zoom\": 12,\n",
        "    }\n",
        "\n",
        "if markers_state not in session_state:\n",
        "    session_state[markers_state] = {\n",
        "        \"lat\": [],\n",
        "        \"lon\": [],\n",
        "        \"text\": [],\n",
        "    }\n",
        "\n"
      ]
    },
    {
      "cell_type": "code",
      "execution_count": 5,
      "metadata": {
        "id": "YA68VTX3PwKh"
      },
      "outputs": [],
      "source": [
        "fig = go.Figure(go.Scattermapbox())\n",
        "\n",
        "fig.update_layout(\n",
        "        mapbox_style=\"open-street-map\",\n",
        "        hovermode='closest',\n",
        "        mapbox=dict(\n",
        "            center=go.layout.mapbox.Center(\n",
        "                lat=session_state[map_state][\"latitude\"],\n",
        "                lon=session_state[map_state][\"longitude\"]\n",
        "            ),\n",
        "            zoom=session_state[map_state][\"zoom\"]\n",
        "        ),\n",
        ")\n",
        "\n",
        "def respond(message, chat_history):\n",
        "\n",
        "    #print(chat_history)\n",
        "\n",
        "    run = submit_message(get_assistant_id(), get_thread_id(), message)\n",
        "\n",
        "    session_state[last_openai_run_state] = run\n",
        "\n",
        "    #print(run)\n",
        "\n",
        "    completed = False\n",
        "\n",
        "    # Polling\n",
        "    while not completed:\n",
        "\n",
        "        run = get_run_info(get_run_id(), get_thread_id())\n",
        "\n",
        "        if run.status == \"requires_action\":\n",
        "\n",
        "            tools_output = []\n",
        "\n",
        "            for tool_call in run.required_action.submit_tool_outputs.tool_calls:\n",
        "\n",
        "                f = tool_call.function\n",
        "                f_name = f.name\n",
        "                f_args = json.loads(f.arguments)\n",
        "\n",
        "                #print(f\"Launching function {f_name} with args {f_args}\")\n",
        "\n",
        "                tool_result = tool_to_function[f_name](**f_args)\n",
        "\n",
        "                tools_output.append(\n",
        "                        {\n",
        "                            \"tool_call_id\": tool_call.id,\n",
        "                            \"output\": tool_result,\n",
        "                        }\n",
        "                    )\n",
        "\n",
        "            #print(f\"Will submit {tools_output}\")\n",
        "\n",
        "            client.beta.threads.runs.submit_tool_outputs(\n",
        "                    thread_id=get_thread_id(),\n",
        "                    run_id=get_run_id(),\n",
        "                    tool_outputs=tools_output,\n",
        "            )\n",
        "\n",
        "        if run.status == \"completed\":\n",
        "\n",
        "            completed = True\n",
        "\n",
        "        else:\n",
        "            time.sleep(0.1)\n",
        "\n",
        "    session_state[conversation_state] = [\n",
        "        [m.role, m.content[0].text.value]\n",
        "        for m in client.beta.threads.messages.list(get_thread_id(), order=\"asc\").data\n",
        "    ]\n",
        "\n",
        "    dialog = session_state[conversation_state]\n",
        "    formatted_dialog = []\n",
        "    for i in range(int(len(dialog)/2)):\n",
        "      formatted_dialog.append([dialog[i*2][1],dialog[i*2+1][1]])\n",
        "\n",
        "\n",
        "    chat_history = formatted_dialog\n",
        "\n",
        "    fig = None\n",
        "\n",
        "    if session_state[markers_state] is None:\n",
        "\n",
        "      fig = go.Figure(go.Scattermapbox())\n",
        "\n",
        "    else :\n",
        "      fig = go.Figure(go.Scattermapbox(\n",
        "            customdata=session_state[markers_state][\"text\"],\n",
        "            lat=session_state[markers_state][\"lat\"],\n",
        "            lon=session_state[markers_state][\"lon\"],\n",
        "            mode='markers',\n",
        "            marker=go.scattermapbox.Marker(\n",
        "                size=18\n",
        "            ),\n",
        "            hoverinfo=\"text\",\n",
        "            hovertemplate='<b>Name</b>: %{customdata}'\n",
        "        ))\n",
        "\n",
        "    fig.update_layout(\n",
        "        mapbox_style=\"open-street-map\",\n",
        "        hovermode='closest',\n",
        "        mapbox=dict(\n",
        "            center=go.layout.mapbox.Center(\n",
        "                lat=session_state[map_state][\"latitude\"],\n",
        "                lon=session_state[map_state][\"longitude\"]\n",
        "            ),\n",
        "            zoom=12\n",
        "        ),\n",
        "    )\n",
        "\n",
        "    return \"\", chat_history, fig\n",
        "\n",
        "\n"
      ]
    },
    {
      "cell_type": "code",
      "source": [
        "with gr.Blocks(title=\"OpenAI assistant Wanderlust\") as demo:\n",
        "\n",
        "    gr.Markdown(\"# OpenAI assistant Wanderlust\")\n",
        "\n",
        "    with gr.Column():\n",
        "        with gr.Row():\n",
        "\n",
        "          chatbot = gr.Chatbot()\n",
        "          map = gr.Plot(fig)\n",
        "\n",
        "    msg = gr.Textbox(\"Move the map to Brussels and locate the best places for waffles\")\n",
        "\n",
        "    with gr.Column():\n",
        "        with gr.Row():\n",
        "          submit = gr.Button(\"Submit\")\n",
        "          clear = gr.ClearButton([msg, chatbot])\n",
        "\n",
        "    msg.submit(respond, [msg, chatbot], [msg, chatbot, map])\n",
        "    submit.click(respond, [msg, chatbot], [msg, chatbot, map])\n",
        "\n",
        "    gr.Markdown(\n",
        "        \"\"\"\n",
        "# Description\n",
        "\n",
        "Basic recreation of OpenAI's DevDay Wanderlust demo app. It relies on Gradio and the new Assistants API. [Github repository](https://github.com/Yannael/openai-assistant-wanderlust)\n",
        "\n",
        "This space is inspired by the implementation of [Fanilo Andrianasolo using Streamlit](https://www.youtube.com/watch?v=tLeqCDKgEDU)\n",
        "\"\"\"\n",
        "    )\n",
        "\n",
        "demo.launch(debug=True)"
      ],
      "metadata": {
        "colab": {
          "base_uri": "https://localhost:8080/",
          "height": 651
        },
        "id": "GeoKv_4KVADn",
        "outputId": "404bb682-3f92-457e-e5b4-00e4a7a7c7e7"
      },
      "execution_count": null,
      "outputs": [
        {
          "output_type": "stream",
          "name": "stdout",
          "text": [
            "Setting queue=True in a Colab notebook requires sharing enabled. Setting `share=True` (you can turn this off by setting `share=False` in `launch()` explicitly).\n",
            "\n",
            "Colab notebook detected. This cell will run indefinitely so that you can see errors and logs. To turn off, set debug=False in launch().\n",
            "Running on public URL: https://bb7610338304e7bffd.gradio.live\n",
            "\n",
            "This share link expires in 72 hours. For free permanent hosting and GPU upgrades, run `gradio deploy` from Terminal to deploy to Spaces (https://huggingface.co/spaces)\n"
          ]
        },
        {
          "output_type": "display_data",
          "data": {
            "text/plain": [
              "<IPython.core.display.HTML object>"
            ],
            "text/html": [
              "<div><iframe src=\"https://bb7610338304e7bffd.gradio.live\" width=\"100%\" height=\"500\" allow=\"autoplay; camera; microphone; clipboard-read; clipboard-write;\" frameborder=\"0\" allowfullscreen></iframe></div>"
            ]
          },
          "metadata": {}
        },
        {
          "output_type": "stream",
          "name": "stdout",
          "text": [
            "{'latitude': 50.8466, 'longitude': 4.35247, 'zoom': 13}\n"
          ]
        }
      ]
    },
    {
      "cell_type": "code",
      "execution_count": null,
      "metadata": {
        "id": "ErSLt5qumkTK"
      },
      "outputs": [],
      "source": []
    }
  ],
  "metadata": {
    "colab": {
      "provenance": []
    },
    "kernelspec": {
      "display_name": "Python 3",
      "name": "python3"
    },
    "language_info": {
      "name": "python"
    }
  },
  "nbformat": 4,
  "nbformat_minor": 0
}